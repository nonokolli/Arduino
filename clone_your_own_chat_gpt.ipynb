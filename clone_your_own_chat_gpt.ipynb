{
  "nbformat": 4,
  "nbformat_minor": 0,
  "metadata": {
    "colab": {
      "provenance": [],
      "toc_visible": true,
      "collapsed_sections": [
        "z5OpWhS3FuY0",
        "EG9Kslp_HqGb"
      ],
      "include_colab_link": true
    },
    "kernelspec": {
      "name": "python3",
      "display_name": "Python 3"
    },
    "language_info": {
      "name": "python"
    },
    "accelerator": "GPU",
    "gpuClass": "standard"
  },
  "cells": [
    {
      "cell_type": "markdown",
      "metadata": {
        "id": "view-in-github",
        "colab_type": "text"
      },
      "source": [
        "<a href=\"https://colab.research.google.com/github/nonokolli/Arduino/blob/master/clone_your_own_chat_gpt.ipynb\" target=\"_parent\"><img src=\"https://colab.research.google.com/assets/colab-badge.svg\" alt=\"Open In Colab\"/></a>"
      ]
    },
    {
      "cell_type": "markdown",
      "source": [
        "# Install OpenAI"
      ],
      "metadata": {
        "id": "z5OpWhS3FuY0"
      }
    },
    {
      "cell_type": "code",
      "source": [
        "!pip install openai"
      ],
      "metadata": {
        "id": "G9gXQvakF1s7"
      },
      "execution_count": null,
      "outputs": []
    },
    {
      "cell_type": "markdown",
      "source": [],
      "metadata": {
        "id": "SvatbUCQFr3I"
      }
    },
    {
      "cell_type": "markdown",
      "source": [
        "\n",
        "# Add your OpenAI API key into the code and RUN 👌"
      ],
      "metadata": {
        "id": "EG9Kslp_HqGb"
      }
    },
    {
      "cell_type": "code",
      "source": [
        "# Import modules\n",
        "import openai\n",
        "\n",
        "# Set up the OpenAI API client\n",
        "openai.api_key = 'API_KEY_GOES_HERE'\n",
        "\n",
        "# Set up the model and prompt\n",
        "model_engine = \"text-davinci-003\"\n",
        "\n",
        "# Set response until otherwise cancelled\n",
        "prompt = input(\"🤖 How can I help you?\\n\")\n",
        " \n",
        "\n",
        "while prompt.lower() not in (\"no\", \"n\", \"no!\", \"you can't\", \"you cant\", \"nothing\"):\n",
        "    # Generate a response\n",
        "    completion = openai.Completion.create(\n",
        "        engine=model_engine,\n",
        "        prompt=prompt,\n",
        "        max_tokens=1024,\n",
        "        n=1,\n",
        "        stop=None,\n",
        "        temperature=0.5,\n",
        "    )\n",
        "\n",
        "    response = completion.choices[0].text\n",
        "    print(f'🤖 {response}')\n",
        "    \n",
        "    prompt = input(\"🤖 What else can I help you with?\\n\")\n",
        "\n",
        "print(\"🤖...\")"
      ],
      "metadata": {
        "id": "3HO_hVchHrg6"
      },
      "execution_count": null,
      "outputs": []
    }
  ]
}